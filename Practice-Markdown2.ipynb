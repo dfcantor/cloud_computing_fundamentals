{
  "cells": [
    {
      "cell_type": "markdown",
      "metadata": {
        "id": "1ZaXBg5VAKvz"
      },
      "source": [
        "## Practice Markdown"
      ]
    },
    {
      "cell_type": "markdown",
      "metadata": {
        "id": "PxJD_XzMAKv8"
      },
      "source": [
        "This notebook lets you experiment with producing repeatable technical documentation.  Use this notebook to do the following actions:\n",
        "\n",
        "* Create a code cell and print a Python Hello World statement:  `print(\"hello world\")`\n",
        "* Create a Markdown Cell and add a Title using `#` and then a statement using plain text.  You can looks at the source code for this cell to get an idea of how to use Markdown.\n",
        "* Take some ideas from the [Master Markdown Github Guide](https://guides.github.com/features/mastering-markdown/) and implement them here.\n",
        "* Download this notebook as a `.ipynb` file and check into a Github Project.  You can [see an example here](https://github.com/noahgift/duke-coursera-ccf-lab1/blob/main/Practice-Markdown.ipynb).\n",
        "* Open your notebook in Google Colab and save it into the same Github Project.  You can [see an example here](https://github.com/noahgift/duke-coursera-ccf-lab1/blob/main/Practice_Markdown_with_colab.ipynb).\n"
      ]
    },
    {
      "cell_type": "code",
      "execution_count": null,
      "metadata": {
        "id": "Bi20zY4-AKv_",
        "outputId": "ca032251-9e31-4980-e359-37f1080f4db6"
      },
      "outputs": [
        {
          "name": "stdout",
          "output_type": "stream",
          "text": [
            "hello world\n"
          ]
        }
      ],
      "source": [
        "print('hello world')"
      ]
    },
    {
      "cell_type": "markdown",
      "metadata": {
        "id": "XaAdTdGOAKwD"
      },
      "source": [
        "# lorem ipsum dolor sit amet"
      ]
    },
    {
      "cell_type": "markdown",
      "metadata": {
        "id": "ljecvt60AKwF"
      },
      "source": [
        "## lorem ipsum dolor sit amet"
      ]
    },
    {
      "cell_type": "markdown",
      "metadata": {
        "id": "tVJSeaS1AKwG"
      },
      "source": [
        "### lorem ipsum dolor sit amet"
      ]
    },
    {
      "cell_type": "markdown",
      "metadata": {
        "id": "nNoQ348NAKwH"
      },
      "source": [
        "> Hey **everyone**. My name is _Daniel Cantor_ ~alias el Kant~. I like H<sub>2</sub>O. Follow me on my [Instagram](instagram.com/danielkant_) :rocket: "
      ]
    },
    {
      "cell_type": "code",
      "execution_count": 1,
      "metadata": {
        "id": "7Z5ZTxVFAKwJ",
        "outputId": "47be98c3-3143-457b-d249-734b45fc0c92",
        "colab": {
          "base_uri": "https://localhost:8080/"
        }
      },
      "outputs": [
        {
          "output_type": "execute_result",
          "data": {
            "text/plain": [
              "2"
            ]
          },
          "metadata": {},
          "execution_count": 1
        }
      ],
      "source": [
        "1+1"
      ]
    }
  ],
  "metadata": {
    "kernelspec": {
      "display_name": "Python 3",
      "language": "python",
      "name": "python3"
    },
    "language_info": {
      "codemirror_mode": {
        "name": "ipython",
        "version": 3
      },
      "file_extension": ".py",
      "mimetype": "text/x-python",
      "name": "python",
      "nbconvert_exporter": "python",
      "pygments_lexer": "ipython3",
      "version": "3.7.6"
    },
    "colab": {
      "provenance": []
    }
  },
  "nbformat": 4,
  "nbformat_minor": 0
}